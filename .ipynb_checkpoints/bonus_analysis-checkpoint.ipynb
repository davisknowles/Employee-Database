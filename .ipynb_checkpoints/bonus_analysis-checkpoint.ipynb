{
 "cells": [
  {
   "cell_type": "code",
   "execution_count": null,
   "id": "retired-telling",
   "metadata": {},
   "outputs": [],
   "source": [
    "#import dependencies \n",
    "from config import pw\n",
    "import pandas as pd\n",
    "import matplotlib.pyplot as plt\n",
    "\n",
    "from sqlalchemy import create_engine\n",
    "engine = create_engine('postgresql://localhost:5432/employee_db')\n",
    "connection = engine.connect()"
   ]
  },
  {
   "cell_type": "code",
   "execution_count": null,
   "id": "administrative-facial",
   "metadata": {},
   "outputs": [],
   "source": [
    "#import the employees table\n",
    "employees = pd.read_sql('select * from employees', connection, parse_dates=['birth_date', 'hire_date'])"
   ]
  },
  {
   "cell_type": "code",
   "execution_count": null,
   "id": "smooth-october",
   "metadata": {},
   "outputs": [],
   "source": [
    "employees.head()"
   ]
  },
  {
   "cell_type": "code",
   "execution_count": null,
   "id": "fixed-reply",
   "metadata": {},
   "outputs": [],
   "source": [
    "#import departments table\n",
    "departments = pd.read_sql('select * from departments', connection)\n",
    "departments.head()"
   ]
  },
  {
   "cell_type": "code",
   "execution_count": null,
   "id": "bridal-mitchell",
   "metadata": {},
   "outputs": [],
   "source": [
    "#import salaries table\n",
    "salaries = pd.read_sql('select * from salaries', connection)\n",
    "salaries.head()"
   ]
  },
  {
   "cell_type": "code",
   "execution_count": null,
   "id": "periodic-contrast",
   "metadata": {},
   "outputs": [],
   "source": [
    "#import department manager table\n",
    "dept_manager = pd.read_sql('select * from dept_manager', connection)\n",
    "dept_manager.head()"
   ]
  },
  {
   "cell_type": "code",
   "execution_count": null,
   "id": "large-brisbane",
   "metadata": {},
   "outputs": [],
   "source": [
    "#import titles table\n",
    "titles = pd.read_sql('select * from titles', connection)\n",
    "titles.head()"
   ]
  },
  {
   "cell_type": "code",
   "execution_count": null,
   "id": "integral-announcement",
   "metadata": {},
   "outputs": [],
   "source": [
    "#count by title\n",
    "titles.title.value_counts()"
   ]
  },
  {
   "cell_type": "code",
   "execution_count": null,
   "id": "constitutional-exchange",
   "metadata": {},
   "outputs": [],
   "source": [
    "# Average Salary by Title\n",
    "#create merged dataframe of titles and salaries\n",
    "employee_salaries = titles.merge(salaries, on='emp_no')\n",
    "employee_salaries.head()"
   ]
  },
  {
   "cell_type": "code",
   "execution_count": null,
   "id": "certified-acoustic",
   "metadata": {},
   "outputs": [],
   "source": [
    "employee_salaries_df = employee_salaries[['emp_no', 'title', 'salary']]\n",
    "employee_salaries_df.head()"
   ]
  },
  {
   "cell_type": "code",
   "execution_count": null,
   "id": "convinced-mixer",
   "metadata": {},
   "outputs": [],
   "source": [
    "employee_salaries_df.group_by('title')['salary'].mean().round(2)"
   ]
  },
  {
   "cell_type": "code",
   "execution_count": null,
   "id": "pressing-updating",
   "metadata": {},
   "outputs": [],
   "source": [
    "employee_salaries_df.hist(column='salary')"
   ]
  },
  {
   "cell_type": "code",
   "execution_count": null,
   "id": "virgin-breakdown",
   "metadata": {},
   "outputs": [],
   "source": [
    "employee_salaries_df.group_by('title')['salary'].mean().plot.bar()"
   ]
  }
 ],
 "metadata": {
  "kernelspec": {
   "display_name": "Python 3",
   "language": "python",
   "name": "python3"
  },
  "language_info": {
   "codemirror_mode": {
    "name": "ipython",
    "version": 3
   },
   "file_extension": ".py",
   "mimetype": "text/x-python",
   "name": "python",
   "nbconvert_exporter": "python",
   "pygments_lexer": "ipython3",
   "version": "3.8.5"
  }
 },
 "nbformat": 4,
 "nbformat_minor": 5
}
